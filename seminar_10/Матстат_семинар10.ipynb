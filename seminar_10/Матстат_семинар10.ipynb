{
 "cells": [
  {
   "cell_type": "markdown",
   "id": "0bd35e5b",
   "metadata": {},
   "source": [
    "__Задача 1__"
   ]
  },
  {
   "cell_type": "markdown",
   "id": "773234ea",
   "metadata": {},
   "source": [
    "Есть ли различие между процентным содержанием изотопов плутония? Используйте функции в Python. Провести предварительный разведочный анализ (проверку на нормальность и равенство\n",
    "дисперсий*)  \n",
    "pu_238:  \n",
    " 0.126, 0.133, 0.127, 0.156, 0.503, 0.113, 0.129, 0.124, 1.022, 1.412, 1.533, 1.534, 1.437, 1.439, 1.375, 1.153, 0.201, 0.176, 0.239, 0.102, 1.070, 0.851, 0.125, 0.142, 0.352, 0.351, 0.346, 0.217, 1.068, 1.171, 1.213, 1.226, 1.111, 0.183, 0.162, 0.113, 1.309, 1.638, 1.589, 1.411, 1.457, 0.397, 0.328, 0.242, 1.367  \n",
    "pu_239:  \n",
    "75.804, 75.515, 75.175, 78.872, 73.317, 79.116, 75.751, 75.326, 63.287, 59.553, 58.688, 58.758, 59.728, 59.544, 59.877, 61.182, 78.244, 78.166, 74.254, 79.840, 62.455, 73.189, 75.968, 75.957, 72.885,72.907, 72.919, 76.089, 70.129, 69.273, 69.147, 68.294, 71.076, 75.714, 76.150, 77.845, 62.382, 60.112, 60.519, 61.585, 61.332, 72.291, 73.451, 74.888, 60.507  \n",
    "pu_240:  \n",
    " 21.204, 21.408, 21.668, 18.428, 20.223, 18.548, 21.162, 21.557, 24.493, 25.576, 25.719, 25.692, 25.146, 25.126, 25.128, 25.100, 18.488, 18.629, 21.515, 17.872, 24.656, 18.285, 20.794, 20.867, 21.718, 21.721, 21.713, 20.225, 18.573, 18.633, 18.640,18.869, 18.122, 20.750, 20.345, 19.108, 22.754, 23.320, 23.128, 23.133, 23.239, 21.761, 21.429, 20.939, 23.603  \n",
    "pu_241:  \n",
    "2.180, 2.240, 2.305, 1.906, 4.128, 1.690, 2.260, 2.282, 6.990, 8.027, 8.279, 8.261, 8.377, 8.569, 8.428, 7.802, 2.351, 2.365, 2.901, 1.674, 7.512, 5.597, 2.407, 2.341, 3.618, 3.601, 3.600, 2.556, 7.689, 8.300, 8.363, 8.826, 7.248, 2.488, 2.524, 2.275, 9.311, 9.972, 9.970, 9.339, 9.321, 3.836, 3.419, 2.875, 9.839  "
   ]
  },
  {
   "cell_type": "code",
   "execution_count": 1,
   "id": "434b17c7",
   "metadata": {},
   "outputs": [],
   "source": [
    "# 1\n",
    "import numpy as np\n",
    "\n",
    "x1 = np.array([0.126, 0.133, 0.127, 0.156, 0.503, 0.113, 0.129, 0.124, 1.022, 1.412, 1.533, 1.534, 1.437, 1.439, 1.375, 1.153, 0.201, 0.176, 0.239, 0.102, 1.070, 0.851, 0.125, 0.142, 0.352, 0.351, 0.346, 0.217, 1.068, 1.171, 1.213, 1.226, 1.111, 0.183, 0.162, 0.113, 1.309, 1.638, 1.589, 1.411, 1.457, 0.397, 0.328, 0.242, 1.367])\n",
    "x2 = np.array([75.804, 75.515, 75.175, 78.872, 73.317, 79.116, 75.751, 75.326, 63.287, 59.553, 58.688, 58.758, 59.728, 59.544, 59.877, 61.182, 78.244, 78.166, 74.254, 79.840, 62.455, 73.189, 75.968, 75.957, 72.885,72.907, 72.919, 76.089, 70.129, 69.273, 69.147, 68.294, 71.076, 75.714, 76.150, 77.845, 62.382, 60.112, 60.519, 61.585, 61.332, 72.291, 73.451, 74.888, 60.507])\n",
    "x3 = np.array([21.204, 21.408, 21.668, 18.428, 20.223, 18.548, 21.162, 21.557, 24.493, 25.576, 25.719, 25.692, 25.146, 25.126, 25.128, 25.100, 18.488, 18.629, 21.515, 17.872, 24.656, 18.285, 20.794, 20.867, 21.718, 21.721, 21.713, 20.225, 18.573, 18.633, 18.640, 18.869, 18.122, 20.750, 20.345, 19.108, 22.754, 23.320, 23.128, 23.133, 23.239, 21.761, 21.429, 20.939, 23.603])\n",
    "x4 = np.array([2.180, 2.240, 2.305, 1.906, 4.128, 1.690, 2.260, 2.282, 6.990, 8.027, 8.279, 8.261, 8.377, 8.569, 8.428, 7.802, 2.351, 2.365, 2.901, 1.674, 7.512, 5.597, 2.407, 2.341, 3.618, 3.601, 3.600, 2.556, 7.689, 8.300, 8.363, 8.826, 7.248, 2.488, 2.524, 2.275, 9.311, 9.972, 9.970, 9.339, 9.321, 3.836, 3.419, 2.875, 9.839])"
   ]
  },
  {
   "cell_type": "code",
   "execution_count": 2,
   "id": "b0c94039",
   "metadata": {},
   "outputs": [
    {
     "name": "stdout",
     "output_type": "stream",
     "text": [
      "ShapiroResult(statistic=0.8199635744094849, pvalue=6.733238933520624e-06)\n",
      "ShapiroResult(statistic=0.8647032380104065, pvalue=8.951310883276165e-05)\n",
      "ShapiroResult(statistic=0.9316781759262085, pvalue=0.010755813680589199)\n",
      "ShapiroResult(statistic=0.8336212635040283, pvalue=1.4246789760363754e-05)\n"
     ]
    }
   ],
   "source": [
    "# проверка на нормальность\n",
    "from scipy import stats\n",
    "\n",
    "alpha = 0.05\n",
    "# H0: нормальное распределение \n",
    "print(stats.shapiro(x1))\n",
    "print(stats.shapiro(x2))\n",
    "print(stats.shapiro(x3))\n",
    "print(stats.shapiro(x4))\n",
    "# p-value < alpha -> H0 отвергается, распределение не нормальное"
   ]
  },
  {
   "cell_type": "code",
   "execution_count": 5,
   "id": "bd35e9b2",
   "metadata": {},
   "outputs": [
    {
     "data": {
      "text/plain": [
       "KruskalResult(statistic=167.8178522154513, pvalue=3.76478949748032e-36)"
      ]
     },
     "execution_count": 5,
     "metadata": {},
     "output_type": "execute_result"
    }
   ],
   "source": [
    "stats.kruskal(x1, x2, x3, x4)\n",
    "# alpha = 0.05\n",
    "# p-value < alpha -> H0 отвергается -> различия есть"
   ]
  },
  {
   "cell_type": "markdown",
   "id": "4850a3fd",
   "metadata": {},
   "source": [
    "__Задача 2__"
   ]
  },
  {
   "cell_type": "markdown",
   "id": "5254e8c3",
   "metadata": {},
   "source": [
    "Даны квартальные прибыли акции Johnson&Johnson с 1960-1980 гг. Есть ли различия прибыли между 4-мя кварталами? Провести EDA (проверка на нормальность, проверка на однородность дисперсий с помощью Барлетт теста from scipy.stats import bartlett). Учитывайте при выборе теста тот факт, что при сбалансированных данных (выборки одинакового объема),неоднородность дисперсий слабо влияет на результат)  \n",
    "JJ_1=np.array([0.71, 0.63, 0.85, 0.44, 0.61, 0.69, 0.92, 0.55, 0.72, 0.77, 0.92, 0.60, 0.83, 0.80, 1.00, 0.77, 0.92, 1.00, 1.24, 1.00, 1.16 ])  \n",
    "JJ_2=np.array([1.30, 1.45, 1.25, 1.26, 1.38, 1.86, 1.56, 1.53, 1.59, 1.83, 1.86, 1.53, 2.07, 2.34, 2.25, 2.16, 2.43, 2.70, 2.25, 2.79, 3.42 ])  \n",
    "JJ_3=np.array([3.69, 3.60, 3.60, 4.32, 4.32, 4.05, 4.86, 5.04, 5.04, 4.41, 5.58, 5.85, 6.57, 5.31, 6.03, 6.39, 6.93, 5.85, 6.93, 7.74, 7.83])  \n",
    "JJ_4=np.array([6.12, 7.74, 8.91, 8.28, 6.84, 9.54, 10.26, 9.54, 8.73, 11.88, 12.06, 12.15, 8.91, 14.04, 12.96, 14.85, 9.99, 16.20, 14.67, 16.02, 11.61 ])  "
   ]
  },
  {
   "cell_type": "code",
   "execution_count": 6,
   "id": "09ec5ea0",
   "metadata": {},
   "outputs": [],
   "source": [
    "# 2\n",
    "JJ_1 = np.array([0.71, 0.63, 0.85, 0.44, 0.61, 0.69, 0.92, 0.55, 0.72, 0.77, 0.92, 0.60, 0.83, 0.80, 1.00, 0.77, 0.92, 1.00, 1.24, 1.00, 1.16 ])\n",
    "JJ_2 = np.array([1.30, 1.45, 1.25, 1.26, 1.38, 1.86, 1.56, 1.53, 1.59, 1.83, 1.86, 1.53, 2.07, 2.34, 2.25, 2.16, 2.43, 2.70, 2.25, 2.79, 3.42 ])\n",
    "JJ_3 = np.array([3.69, 3.60, 3.60, 4.32, 4.32, 4.05, 4.86, 5.04, 5.04, 4.41, 5.58, 5.85, 6.57, 5.31, 6.03, 6.39, 6.93, 5.85, 6.93, 7.74,  7.83])\n",
    "JJ_4 = np.array([6.12, 7.74, 8.91, 8.28, 6.84, 9.54, 10.26, 9.54, 8.73, 11.88, 12.06, 12.15, 8.91, 14.04, 12.96, 14.85, 9.99, 16.20, 14.67, 16.02, 11.61])"
   ]
  },
  {
   "cell_type": "code",
   "execution_count": 7,
   "id": "90dcb144",
   "metadata": {
    "scrolled": true
   },
   "outputs": [
    {
     "name": "stdout",
     "output_type": "stream",
     "text": [
      "ShapiroResult(statistic=0.9837694764137268, pvalue=0.9688350558280945)\n",
      "ShapiroResult(statistic=0.9252575635910034, pvalue=0.11057926714420319)\n",
      "ShapiroResult(statistic=0.9523218274116516, pvalue=0.37654614448547363)\n",
      "ShapiroResult(statistic=0.9590807557106018, pvalue=0.49780404567718506)\n"
     ]
    }
   ],
   "source": [
    "# проверка на нормальность\n",
    "print(stats.shapiro(JJ_1))\n",
    "print(stats.shapiro(JJ_2))\n",
    "print(stats.shapiro(JJ_3))\n",
    "print(stats.shapiro(JJ_4))"
   ]
  },
  {
   "cell_type": "code",
   "execution_count": 8,
   "id": "99454b8f",
   "metadata": {},
   "outputs": [
    {
     "data": {
      "text/plain": [
       "BartlettResult(statistic=109.62893110687119, pvalue=1.3188378332498392e-23)"
      ]
     },
     "execution_count": 8,
     "metadata": {},
     "output_type": "execute_result"
    }
   ],
   "source": [
    "# проверка на равенство дисперсий\n",
    "\n",
    "# H0: дисперсии равны \n",
    "stats.bartlett(JJ_1, JJ_2, JJ_3, JJ_4)\n",
    "# p-value < alpha -> H0 отвергается, дисперсии не равны"
   ]
  },
  {
   "cell_type": "code",
   "execution_count": 9,
   "id": "3d303631",
   "metadata": {},
   "outputs": [
    {
     "data": {
      "text/plain": [
       "F_onewayResult(statistic=162.03157448390618, pvalue=6.81307443530621e-34)"
      ]
     },
     "execution_count": 9,
     "metadata": {},
     "output_type": "execute_result"
    }
   ],
   "source": [
    "stats.f_oneway(JJ_1, JJ_2, JJ_3, JJ_4) # дисперсионный анализ\n",
    "# p-value < alpha -> H0 отвергается, различия есть"
   ]
  },
  {
   "cell_type": "code",
   "execution_count": 10,
   "id": "79f9a9ac",
   "metadata": {},
   "outputs": [
    {
     "data": {
      "text/plain": [
       "KruskalResult(statistic=77.04853477998796, pvalue=1.318184789753617e-16)"
      ]
     },
     "execution_count": 10,
     "metadata": {},
     "output_type": "execute_result"
    }
   ],
   "source": [
    "stats.kruskal(JJ_1, JJ_2, JJ_3, JJ_4)"
   ]
  },
  {
   "cell_type": "markdown",
   "id": "1dade38c",
   "metadata": {},
   "source": [
    "__Задача 3__"
   ]
  },
  {
   "cell_type": "markdown",
   "id": "0bba7e3b",
   "metadata": {},
   "source": [
    "Провести post hoc tests к задаче 2. Между какими группами не обнаружено статистически значимых различий?  "
   ]
  },
  {
   "cell_type": "code",
   "execution_count": 11,
   "id": "1dbe2e74",
   "metadata": {
    "scrolled": true
   },
   "outputs": [
    {
     "data": {
      "text/html": [
       "<div>\n",
       "<style scoped>\n",
       "    .dataframe tbody tr th:only-of-type {\n",
       "        vertical-align: middle;\n",
       "    }\n",
       "\n",
       "    .dataframe tbody tr th {\n",
       "        vertical-align: top;\n",
       "    }\n",
       "\n",
       "    .dataframe thead th {\n",
       "        text-align: right;\n",
       "    }\n",
       "</style>\n",
       "<table border=\"1\" class=\"dataframe\">\n",
       "  <thead>\n",
       "    <tr style=\"text-align: right;\">\n",
       "      <th></th>\n",
       "      <th>score</th>\n",
       "      <th>group</th>\n",
       "    </tr>\n",
       "  </thead>\n",
       "  <tbody>\n",
       "    <tr>\n",
       "      <th>0</th>\n",
       "      <td>0.71</td>\n",
       "      <td>JJ_1</td>\n",
       "    </tr>\n",
       "    <tr>\n",
       "      <th>1</th>\n",
       "      <td>0.63</td>\n",
       "      <td>JJ_1</td>\n",
       "    </tr>\n",
       "    <tr>\n",
       "      <th>2</th>\n",
       "      <td>0.85</td>\n",
       "      <td>JJ_1</td>\n",
       "    </tr>\n",
       "    <tr>\n",
       "      <th>3</th>\n",
       "      <td>0.44</td>\n",
       "      <td>JJ_1</td>\n",
       "    </tr>\n",
       "    <tr>\n",
       "      <th>4</th>\n",
       "      <td>0.61</td>\n",
       "      <td>JJ_1</td>\n",
       "    </tr>\n",
       "    <tr>\n",
       "      <th>...</th>\n",
       "      <td>...</td>\n",
       "      <td>...</td>\n",
       "    </tr>\n",
       "    <tr>\n",
       "      <th>79</th>\n",
       "      <td>9.99</td>\n",
       "      <td>JJ_4</td>\n",
       "    </tr>\n",
       "    <tr>\n",
       "      <th>80</th>\n",
       "      <td>16.20</td>\n",
       "      <td>JJ_4</td>\n",
       "    </tr>\n",
       "    <tr>\n",
       "      <th>81</th>\n",
       "      <td>14.67</td>\n",
       "      <td>JJ_4</td>\n",
       "    </tr>\n",
       "    <tr>\n",
       "      <th>82</th>\n",
       "      <td>16.02</td>\n",
       "      <td>JJ_4</td>\n",
       "    </tr>\n",
       "    <tr>\n",
       "      <th>83</th>\n",
       "      <td>11.61</td>\n",
       "      <td>JJ_4</td>\n",
       "    </tr>\n",
       "  </tbody>\n",
       "</table>\n",
       "<p>84 rows × 2 columns</p>\n",
       "</div>"
      ],
      "text/plain": [
       "    score group\n",
       "0    0.71  JJ_1\n",
       "1    0.63  JJ_1\n",
       "2    0.85  JJ_1\n",
       "3    0.44  JJ_1\n",
       "4    0.61  JJ_1\n",
       "..    ...   ...\n",
       "79   9.99  JJ_4\n",
       "80  16.20  JJ_4\n",
       "81  14.67  JJ_4\n",
       "82  16.02  JJ_4\n",
       "83  11.61  JJ_4\n",
       "\n",
       "[84 rows x 2 columns]"
      ]
     },
     "execution_count": 11,
     "metadata": {},
     "output_type": "execute_result"
    }
   ],
   "source": [
    "# 3\n",
    "from statsmodels.stats.multicomp import pairwise_tukeyhsd\n",
    "import pandas as pd \n",
    "\n",
    "df = pd.DataFrame({\"score\": [0.71, 0.63, 0.85, 0.44, 0.61, 0.69, 0.92, 0.55, 0.72, 0.77, 0.92, 0.60, 0.83, 0.80, 1.00, 0.77, 0.92, 1.00, 1.24, 1.00, 1.16,\n",
    "                         1.30, 1.45, 1.25, 1.26, 1.38, 1.86, 1.56, 1.53, 1.59, 1.83, 1.86, 1.53, 2.07, 2.34, 2.25, 2.16, 2.43, 2.70, 2.25, 2.79, 3.42,\n",
    "                         3.69, 3.60, 3.60, 4.32, 4.32, 4.05, 4.86, 5.04, 5.04, 4.41, 5.58, 5.85, 6.57, 5.31, 6.03, 6.39, 6.93, 5.85, 6.93, 7.74,  7.83,\n",
    "                         6.12,  7.74,  8.91,  8.28, 6.84,  9.54, 10.26,  9.54, 8.73, 11.88, 12.06, 12.15, 8.91, 14.04, 12.96, 14.85, 9.99, 16.20, 14.67, 16.02, 11.61],\n",
    "                 \"group\": np.repeat([\"JJ_1\",\"JJ_2\",\"JJ_3\",\"JJ_4\"], repeats=21)})\n",
    "df"
   ]
  },
  {
   "cell_type": "code",
   "execution_count": 12,
   "id": "93a52ae1",
   "metadata": {
    "scrolled": true
   },
   "outputs": [
    {
     "name": "stdout",
     "output_type": "stream",
     "text": [
      "Multiple Comparison of Means - Tukey HSD, FWER=0.05 \n",
      "====================================================\n",
      "group1 group2 meandiff p-adj   lower   upper  reject\n",
      "----------------------------------------------------\n",
      "  JJ_1   JJ_2   1.1276 0.1282 -0.2087   2.464  False\n",
      "  JJ_1   JJ_3     4.61    0.0  3.2737  5.9463   True\n",
      "  JJ_1   JJ_4  10.1986    0.0  8.8622 11.5349   True\n",
      "  JJ_2   JJ_3   3.4824    0.0   2.146  4.8187   True\n",
      "  JJ_2   JJ_4    9.071    0.0  7.7346 10.4073   True\n",
      "  JJ_3   JJ_4   5.5886    0.0  4.2522  6.9249   True\n",
      "----------------------------------------------------\n"
     ]
    }
   ],
   "source": [
    "tukey = pairwise_tukeyhsd(df[\"score\"], df[\"group\"], alpha=0.05)\n",
    "print(tukey)"
   ]
  },
  {
   "cell_type": "markdown",
   "id": "e7900c9f",
   "metadata": {},
   "source": [
    "__Задача 4__"
   ]
  },
  {
   "cell_type": "markdown",
   "id": "d8cad3d8",
   "metadata": {},
   "source": [
    "Даны веса пациентов до и после диеты. Веса распределены нормально До 92.8 , 95.6, 92.1, 100.6, 96.2, 92.1, 96.7, 97.6, 97.0, 93.9. После 87.1, 84.1, 81.3, 77.0, 86.0, 82.9, 83.0, 85.5, 85.2, 84.6. Проверить гипотезу о, том что средний вес пациентов после диеты статистически меньше веса до диеты:  \n",
    "1. Используйте alternative='greater‘  \n",
    "2. alternative=‘less‘  \n",
    "3. 'two-sided'  \n",
    "Объясните полученные результаты p-value для каждого случая. К задаче 4 stats.ttest_rel(a,b, alternative = \"less\")."
   ]
  },
  {
   "cell_type": "code",
   "execution_count": 3,
   "id": "212379e5",
   "metadata": {},
   "outputs": [],
   "source": [
    "# 4\n",
    "before = np.array([92.8 , 95.6, 92.1, 100.6, 96.2, 92.1, 96.7, 97.6, 97.0, 93.9])\n",
    "after = np.array([87.1, 84.1, 81.3, 77.0, 86.0, 82.9, 83.0, 85.5, 85.2, 84.6])"
   ]
  },
  {
   "cell_type": "code",
   "execution_count": 6,
   "id": "860ee82e",
   "metadata": {},
   "outputs": [
    {
     "data": {
      "text/plain": [
       "(95.46000000000001, 83.67)"
      ]
     },
     "execution_count": 6,
     "metadata": {},
     "output_type": "execute_result"
    }
   ],
   "source": [
    "before.mean(), after.mean()"
   ]
  },
  {
   "cell_type": "code",
   "execution_count": 4,
   "id": "59d9f235",
   "metadata": {},
   "outputs": [
    {
     "data": {
      "text/plain": [
       "Ttest_relResult(statistic=7.972831441034037, pvalue=1.1372213723408018e-05)"
      ]
     },
     "execution_count": 4,
     "metadata": {},
     "output_type": "execute_result"
    }
   ],
   "source": [
    "stats.ttest_rel(before, after, alternative='greater')   #H1: mu_ before > mu_after"
   ]
  },
  {
   "cell_type": "code",
   "execution_count": 7,
   "id": "699d5a06",
   "metadata": {},
   "outputs": [
    {
     "data": {
      "text/plain": [
       "Ttest_relResult(statistic=7.972831441034037, pvalue=2.2744427446816035e-05)"
      ]
     },
     "execution_count": 7,
     "metadata": {},
     "output_type": "execute_result"
    }
   ],
   "source": [
    "stats.ttest_rel(before, after, alternative='two-sided')   #H1: mu_ before != mu_after"
   ]
  },
  {
   "cell_type": "code",
   "execution_count": 8,
   "id": "e39c8c3d",
   "metadata": {},
   "outputs": [
    {
     "data": {
      "text/plain": [
       "Ttest_relResult(statistic=7.972831441034037, pvalue=0.9999886277862766)"
      ]
     },
     "execution_count": 8,
     "metadata": {},
     "output_type": "execute_result"
    }
   ],
   "source": [
    "stats.ttest_rel(before, after, alternative='less')   #H1: mu_before < mu_after"
   ]
  },
  {
   "cell_type": "code",
   "execution_count": 9,
   "id": "c25ccbb1",
   "metadata": {},
   "outputs": [
    {
     "data": {
      "text/plain": [
       "1.959963984540054"
      ]
     },
     "execution_count": 9,
     "metadata": {},
     "output_type": "execute_result"
    }
   ],
   "source": [
    "alpha = 0.05\n",
    "stats.norm.ppf(1 - alpha / 2)"
   ]
  },
  {
   "cell_type": "code",
   "execution_count": 8,
   "id": "85c6feec",
   "metadata": {},
   "outputs": [
    {
     "data": {
      "text/plain": [
       "Ttest_relResult(statistic=7.972831441034037, pvalue=2.2744427446816035e-05)"
      ]
     },
     "execution_count": 8,
     "metadata": {},
     "output_type": "execute_result"
    }
   ],
   "source": [
    "stats.ttest_rel(x, y) # ДКО   H0: mu1 = mu2   H1: mu1 !=  mu2"
   ]
  },
  {
   "cell_type": "code",
   "execution_count": 6,
   "id": "04a62024",
   "metadata": {},
   "outputs": [
    {
     "data": {
      "text/plain": [
       "Ttest_relResult(statistic=7.972831441034037, pvalue=1.1372213723408018e-05)"
      ]
     },
     "execution_count": 6,
     "metadata": {},
     "output_type": "execute_result"
    }
   ],
   "source": [
    "stats.ttest_rel(x, y, alternative='greater') # ПКО   H1: mu_before > mu2_after"
   ]
  },
  {
   "cell_type": "code",
   "execution_count": 7,
   "id": "b9c3e924",
   "metadata": {},
   "outputs": [
    {
     "data": {
      "text/plain": [
       "Ttest_relResult(statistic=7.972831441034037, pvalue=0.9999886277862766)"
      ]
     },
     "execution_count": 7,
     "metadata": {},
     "output_type": "execute_result"
    }
   ],
   "source": [
    "stats.ttest_rel(x, y, alternative='less') # ЛКО     H1: mu_fefore < mu2_after"
   ]
  }
 ],
 "metadata": {
  "kernelspec": {
   "display_name": "Python 3 (ipykernel)",
   "language": "python",
   "name": "python3"
  },
  "language_info": {
   "codemirror_mode": {
    "name": "ipython",
    "version": 3
   },
   "file_extension": ".py",
   "mimetype": "text/x-python",
   "name": "python",
   "nbconvert_exporter": "python",
   "pygments_lexer": "ipython3",
   "version": "3.9.13"
  }
 },
 "nbformat": 4,
 "nbformat_minor": 5
}
